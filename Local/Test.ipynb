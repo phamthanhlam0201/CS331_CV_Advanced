{
  "cells": [
    {
      "cell_type": "code",
      "source": [
        "from google.colab import drive\n",
        "drive.mount('/content/drive')"
      ],
      "metadata": {
        "colab": {
          "base_uri": "https://localhost:8080/"
        },
        "id": "9NJyM1DOZ2Xc",
        "outputId": "dbc893b4-217f-427f-8a53-9b57bcd116c3"
      },
      "execution_count": 3,
      "outputs": [
        {
          "output_type": "stream",
          "name": "stdout",
          "text": [
            "Drive already mounted at /content/drive; to attempt to forcibly remount, call drive.mount(\"/content/drive\", force_remount=True).\n"
          ]
        }
      ]
    },
    {
      "cell_type": "code",
      "source": [
        "from keras.models import Model\n",
        "from keras.layers import Flatten\n",
        "import tensorflow as tf\n",
        "import os\n",
        "import cv2\n",
        "import json\n",
        "import numpy as np\n",
        "import matplotlib.pyplot as plt"
      ],
      "metadata": {
        "id": "OJTbKDg5aOIe"
      },
      "execution_count": 2,
      "outputs": []
    },
    {
      "cell_type": "code",
      "execution_count": 5,
      "metadata": {
        "colab": {
          "base_uri": "https://localhost:8080/"
        },
        "id": "73ravX75Zzla",
        "outputId": "060880dc-c225-4f5e-9bda-97b1943611c4"
      },
      "outputs": [
        {
          "output_type": "stream",
          "name": "stdout",
          "text": [
            "Số lượng mẫu trong tập huấn luyện: 300\n",
            "Số lượng mẫu trong tập xác thực: 100\n",
            "Số lượng mẫu trong tập kiểm tra: 100\n"
          ]
        }
      ],
      "source": [
        "# Hàm chuyển đổi một tệp JSON thành định dạng đầu ra phù hợp\n",
        "def process_json(json_data, folder_name, dataset_path):\n",
        "    # Trích xuất thông tin từ tệp JSON\n",
        "    image_path = os.path.join(dataset_path, folder_name, json_data[\"imagePath\"])\n",
        "    annotations = []\n",
        "\n",
        "    for shape in json_data[\"shapes\"]:\n",
        "        points = shape[\"points\"]\n",
        "        x_min = min(points, key=lambda x: x[0])[0]\n",
        "        x_max = max(points, key=lambda x: x[0])[0]\n",
        "        y_min = min(points, key=lambda x: x[1])[1]\n",
        "        y_max = max(points, key=lambda x: x[1])[1]\n",
        "\n",
        "        width = x_max - x_min\n",
        "        height = y_max - y_min\n",
        "\n",
        "        annotations.append({\n",
        "            \"Label\": shape[\"label\"],\n",
        "            \"Bbox\": [x_min, y_min, width, height]\n",
        "        })\n",
        "\n",
        "    return {\n",
        "        \"image_path\": image_path,\n",
        "        \"annotations\": annotations\n",
        "    }\n",
        "\n",
        "dataset_path = \"/content/drive/MyDrive/Colab Notebooks/Local/Data\"\n",
        "# Tạo danh sách để lưu trữ dữ liệu định dạng đầu ra\n",
        "formatted_data = []\n",
        "\n",
        "for folder_name in os.listdir(dataset_path):\n",
        "    json_folder = os.path.join(dataset_path, folder_name)\n",
        "\n",
        "    # Xử lý dữ liệu từ các tệp JSON trong thư mục\n",
        "    for filename in os.listdir(json_folder):\n",
        "        if filename.endswith('.json'):\n",
        "            file_path = os.path.join(json_folder, filename)\n",
        "            with open(file_path, 'r') as json_file:\n",
        "                json_data = json.load(json_file)\n",
        "                formatted_data.append(process_json(json_data, folder_name, dataset_path))\n",
        "\n",
        "from sklearn.model_selection import train_test_split\n",
        "\n",
        "# Dữ liệu đã được chuẩn hóa và lưu trong biến formatted_data\n",
        "\n",
        "# Tách dữ liệu thành tập huấn luyện (60%), tập xác thực (20%) và tập kiểm tra (20%)\n",
        "train_data, temp_data = train_test_split(formatted_data, test_size=0.4, random_state=42)\n",
        "validation_data, test_data = train_test_split(temp_data, test_size=0.5, random_state=42)\n",
        "\n",
        "# In số lượng mẫu trong mỗi tập\n",
        "print(f\"Số lượng mẫu trong tập huấn luyện: {len(train_data)}\")\n",
        "print(f\"Số lượng mẫu trong tập xác thực: {len(validation_data)}\")\n",
        "print(f\"Số lượng mẫu trong tập kiểm tra: {len(test_data)}\")\n",
        "\n",
        "# Kích thước đầu vào mong muốn của mô hình\n",
        "input_shape = (224, 224, 3)\n",
        "\n",
        "# Chuyển đổi dữ liệu hình ảnh và nhãn thành NumPy arrays và điều chỉnh kích thước ảnh\n",
        "def load_and_resize_images(data):\n",
        "    images = []\n",
        "    bboxes = []\n",
        "    labels = []\n",
        "\n",
        "    for item in data:\n",
        "        image = cv2.imread(item['image_path'])\n",
        "        image = cv2.resize(image, (input_shape[0], input_shape[1]))\n",
        "\n",
        "        annotation = item[\"annotations\"]\n",
        "        bbox_list = []\n",
        "        label_list = []\n",
        "        image_list = []\n",
        "\n",
        "        for ann in annotation:\n",
        "            # Thay đổi nhãn \"Airplane\" thành 1 và \"Helicopter\" thành 0\n",
        "            label = 1 if ann['Label'] == 'Airplane' else 0\n",
        "            bbox_list.append(ann['Bbox'])\n",
        "            label_list.append(label)\n",
        "            image_list.append(image)\n",
        "\n",
        "        images.extend(image_list)\n",
        "        bboxes.extend(bbox_list)\n",
        "        labels.extend(label_list)  # Sử dụng extend() để thêm các giá trị của label_list vào labels\n",
        "\n",
        "    images = np.array(images)\n",
        "    bboxes = np.array(bboxes)\n",
        "    labels = np.array(labels)\n",
        "\n",
        "    return images, [bboxes, labels]\n",
        "\n",
        "# Chia dữ liệu thành các biến\n",
        "# Chia dữ liệu thành các biến\n",
        "x_train, [y_train_bbox, y_train_labels] = load_and_resize_images(train_data)\n",
        "x_validation, [y_validation_bbox, y_validation_labels] = load_and_resize_images(validation_data)\n",
        "x_test, [y_test_bbox, y_test_labels] = load_and_resize_images(test_data)\n"
      ]
    },
    {
      "cell_type": "code",
      "execution_count": 6,
      "metadata": {
        "colab": {
          "base_uri": "https://localhost:8080/"
        },
        "id": "uFYLtgxXZzle",
        "outputId": "0f89ce73-0965-4e10-ff4c-eee3b8327407"
      },
      "outputs": [
        {
          "output_type": "stream",
          "name": "stdout",
          "text": [
            "Model: \"model\"\n",
            "__________________________________________________________________________________________________\n",
            " Layer (type)                Output Shape                 Param #   Connected to                  \n",
            "==================================================================================================\n",
            " conv2d_input (InputLayer)   [(None, 224, 224, 3)]        0         []                            \n",
            "                                                                                                  \n",
            " conv2d (Conv2D)             (None, 222, 222, 32)         896       ['conv2d_input[0][0]']        \n",
            "                                                                                                  \n",
            " max_pooling2d (MaxPooling2  (None, 111, 111, 32)         0         ['conv2d[0][0]']              \n",
            " D)                                                                                               \n",
            "                                                                                                  \n",
            " conv2d_1 (Conv2D)           (None, 109, 109, 64)         18496     ['max_pooling2d[0][0]']       \n",
            "                                                                                                  \n",
            " max_pooling2d_1 (MaxPoolin  (None, 54, 54, 64)           0         ['conv2d_1[0][0]']            \n",
            " g2D)                                                                                             \n",
            "                                                                                                  \n",
            " conv2d_2 (Conv2D)           (None, 52, 52, 128)          73856     ['max_pooling2d_1[0][0]']     \n",
            "                                                                                                  \n",
            " max_pooling2d_2 (MaxPoolin  (None, 26, 26, 128)          0         ['conv2d_2[0][0]']            \n",
            " g2D)                                                                                             \n",
            "                                                                                                  \n",
            " flatten (Flatten)           (None, 86528)                0         ['max_pooling2d_2[0][0]']     \n",
            "                                                                                                  \n",
            " dense (Dense)               (None, 128)                  1107571   ['flatten[0][0]']             \n",
            "                                                          2                                       \n",
            "                                                                                                  \n",
            " BBox (Dense)                (None, 4)                    516       ['dense[0][0]']               \n",
            "                                                                                                  \n",
            " Label (Dense)               (None, 1)                    129       ['dense[0][0]']               \n",
            "                                                                                                  \n",
            "==================================================================================================\n",
            "Total params: 11169605 (42.61 MB)\n",
            "Trainable params: 11169605 (42.61 MB)\n",
            "Non-trainable params: 0 (0.00 Byte)\n",
            "__________________________________________________________________________________________________\n"
          ]
        }
      ],
      "source": [
        "from keras.models import Sequential, Model\n",
        "from keras.layers import Conv2D, MaxPooling2D, Flatten, Dense, Input\n",
        "\n",
        "# Xây dựng mô hình\n",
        "model = Sequential()\n",
        "\n",
        "model.add(Conv2D(32, (3, 3), activation='relu', input_shape=(224, 224, 3)))\n",
        "model.add(MaxPooling2D((2, 2)))\n",
        "\n",
        "model.add(Conv2D(64, (3, 3), activation='relu'))\n",
        "model.add(MaxPooling2D((2, 2)))\n",
        "\n",
        "model.add(Conv2D(128, (3, 3), activation='relu'))\n",
        "model.add(MaxPooling2D((2, 2)))\n",
        "\n",
        "model.add(Flatten())\n",
        "model.add(Dense(128, activation='relu'))\n",
        "\n",
        "# Đầu ra cho bounding box (4 giá trị: x, y, width, height)\n",
        "bbox_output = Dense(4, activation='linear', name='BBox')(model.layers[-1].output)\n",
        "\n",
        "# Đầu ra cho label (1 giá trị xác suất)\n",
        "label_output = Dense(1, activation='sigmoid', name='Label')(model.layers[-1].output)\n",
        "\n",
        "# Tạo mô hình\n",
        "model = Model(inputs=model.inputs, outputs=[bbox_output, label_output])\n",
        "\n",
        "# Kết hợp hàm mất mát\n",
        "model.compile(optimizer='adam',\n",
        "              loss={'Label': 'binary_crossentropy', 'BBox': 'mean_squared_error'},\n",
        "              metrics={\"Label\":'accuracy'})\n",
        "\n",
        "# Kiểm tra mô hình\n",
        "model.summary()"
      ]
    },
    {
      "cell_type": "code",
      "execution_count": 11,
      "metadata": {
        "colab": {
          "base_uri": "https://localhost:8080/"
        },
        "id": "_f-oJiIxZzle",
        "outputId": "d515f6db-46d9-4d0e-c8e2-c22d95327b23"
      },
      "outputs": [
        {
          "output_type": "stream",
          "name": "stdout",
          "text": [
            "Epoch 1/20\n",
            "31/31 [==============================] - 34s 1s/step - loss: 3045.6929 - BBox_loss: 3043.0825 - Label_loss: 2.6111 - Label_accuracy: 0.9103 - val_loss: 278217.8438 - val_BBox_loss: 278205.0938 - val_Label_loss: 12.7366 - val_Label_accuracy: 0.7100\n",
            "Epoch 2/20\n",
            "31/31 [==============================] - 34s 1s/step - loss: 6033.1216 - BBox_loss: 6029.9053 - Label_loss: 3.2159 - Label_accuracy: 0.8937 - val_loss: 286477.1562 - val_BBox_loss: 286466.6875 - val_Label_loss: 10.5030 - val_Label_accuracy: 0.6800\n",
            "Epoch 3/20\n",
            "31/31 [==============================] - 38s 1s/step - loss: 16187.1416 - BBox_loss: 16183.5781 - Label_loss: 3.5641 - Label_accuracy: 0.8970 - val_loss: 250096.9219 - val_BBox_loss: 250079.2188 - val_Label_loss: 17.6970 - val_Label_accuracy: 0.7000\n",
            "Epoch 4/20\n",
            "31/31 [==============================] - 34s 1s/step - loss: 29093.1621 - BBox_loss: 29088.0664 - Label_loss: 5.0955 - Label_accuracy: 0.8771 - val_loss: 317524.5938 - val_BBox_loss: 317514.8125 - val_Label_loss: 9.7995 - val_Label_accuracy: 0.7700\n",
            "Epoch 5/20\n",
            "31/31 [==============================] - 38s 1s/step - loss: 79128.4922 - BBox_loss: 79122.5312 - Label_loss: 5.9711 - Label_accuracy: 0.8140 - val_loss: 317603.6250 - val_BBox_loss: 317592.9062 - val_Label_loss: 10.7530 - val_Label_accuracy: 0.7300\n",
            "Epoch 6/20\n",
            "31/31 [==============================] - 34s 1s/step - loss: 36821.8047 - BBox_loss: 36812.4219 - Label_loss: 9.3727 - Label_accuracy: 0.7907 - val_loss: 378860.1875 - val_BBox_loss: 378850.0938 - val_Label_loss: 10.1290 - val_Label_accuracy: 0.6900\n",
            "Epoch 7/20\n",
            "31/31 [==============================] - 38s 1s/step - loss: 43887.0117 - BBox_loss: 43876.3203 - Label_loss: 10.6943 - Label_accuracy: 0.7674 - val_loss: 310925.4688 - val_BBox_loss: 310918.0312 - val_Label_loss: 7.4698 - val_Label_accuracy: 0.7800\n",
            "Epoch 8/20\n",
            "31/31 [==============================] - 35s 1s/step - loss: 27691.5059 - BBox_loss: 27688.2129 - Label_loss: 3.2969 - Label_accuracy: 0.8937 - val_loss: 301229.9062 - val_BBox_loss: 301221.9688 - val_Label_loss: 7.9413 - val_Label_accuracy: 0.8200\n",
            "Epoch 9/20\n",
            "31/31 [==============================] - 37s 1s/step - loss: 21202.0176 - BBox_loss: 21197.2031 - Label_loss: 4.8173 - Label_accuracy: 0.8870 - val_loss: 262738.0625 - val_BBox_loss: 262727.7500 - val_Label_loss: 10.2772 - val_Label_accuracy: 0.7500\n",
            "Epoch 10/20\n",
            "31/31 [==============================] - 35s 1s/step - loss: 11263.1445 - BBox_loss: 11258.5889 - Label_loss: 4.5550 - Label_accuracy: 0.8704 - val_loss: 277298.5938 - val_BBox_loss: 277289.9062 - val_Label_loss: 8.6533 - val_Label_accuracy: 0.7400\n",
            "Epoch 11/20\n",
            "31/31 [==============================] - 34s 1s/step - loss: 6081.7197 - BBox_loss: 6078.2856 - Label_loss: 3.4336 - Label_accuracy: 0.9269 - val_loss: 273793.8438 - val_BBox_loss: 273783.8125 - val_Label_loss: 10.0318 - val_Label_accuracy: 0.7700\n",
            "Epoch 12/20\n",
            "31/31 [==============================] - 38s 1s/step - loss: 3484.9202 - BBox_loss: 3480.3354 - Label_loss: 4.5849 - Label_accuracy: 0.9236 - val_loss: 261516.6406 - val_BBox_loss: 261506.0156 - val_Label_loss: 10.6362 - val_Label_accuracy: 0.7500\n",
            "Epoch 13/20\n",
            "31/31 [==============================] - 38s 1s/step - loss: 2349.7771 - BBox_loss: 2346.6465 - Label_loss: 3.1308 - Label_accuracy: 0.9169 - val_loss: 272010.1562 - val_BBox_loss: 272000.1875 - val_Label_loss: 9.9435 - val_Label_accuracy: 0.7500\n",
            "Epoch 14/20\n",
            "31/31 [==============================] - 39s 1s/step - loss: 1765.5575 - BBox_loss: 1762.0566 - Label_loss: 3.5008 - Label_accuracy: 0.9336 - val_loss: 271917.7188 - val_BBox_loss: 271908.7188 - val_Label_loss: 8.9843 - val_Label_accuracy: 0.7600\n",
            "Epoch 15/20\n",
            "31/31 [==============================] - 36s 1s/step - loss: 1190.2573 - BBox_loss: 1186.7130 - Label_loss: 3.5442 - Label_accuracy: 0.9236 - val_loss: 271919.4062 - val_BBox_loss: 271909.7500 - val_Label_loss: 9.6444 - val_Label_accuracy: 0.7600\n",
            "Epoch 16/20\n",
            "31/31 [==============================] - 49s 2s/step - loss: 1181.7361 - BBox_loss: 1178.3978 - Label_loss: 3.3385 - Label_accuracy: 0.9269 - val_loss: 267189.1250 - val_BBox_loss: 267179.8438 - val_Label_loss: 9.2305 - val_Label_accuracy: 0.7500\n",
            "Epoch 17/20\n",
            "31/31 [==============================] - 45s 1s/step - loss: 1097.7590 - BBox_loss: 1094.6323 - Label_loss: 3.1268 - Label_accuracy: 0.9369 - val_loss: 268322.5625 - val_BBox_loss: 268313.1250 - val_Label_loss: 9.4311 - val_Label_accuracy: 0.7600\n",
            "Epoch 18/20\n",
            "31/31 [==============================] - 37s 1s/step - loss: 854.0684 - BBox_loss: 851.3538 - Label_loss: 2.7145 - Label_accuracy: 0.9336 - val_loss: 272570.0938 - val_BBox_loss: 272561.6250 - val_Label_loss: 8.4873 - val_Label_accuracy: 0.7700\n",
            "Epoch 19/20\n",
            "31/31 [==============================] - 37s 1s/step - loss: 744.5884 - BBox_loss: 741.7775 - Label_loss: 2.8111 - Label_accuracy: 0.9236 - val_loss: 274077.4062 - val_BBox_loss: 274069.0938 - val_Label_loss: 8.3507 - val_Label_accuracy: 0.7600\n",
            "Epoch 20/20\n",
            "31/31 [==============================] - 41s 1s/step - loss: 657.2780 - BBox_loss: 654.7908 - Label_loss: 2.4872 - Label_accuracy: 0.9435 - val_loss: 270379.2500 - val_BBox_loss: 270370.3750 - val_Label_loss: 8.9044 - val_Label_accuracy: 0.7700\n"
          ]
        }
      ],
      "source": [
        "# Huấn luyện mô hình với nhãn đã được mã hóa\n",
        "history = model.fit(\n",
        "    x_train,\n",
        "    {'BBox': y_train_bbox, 'Label': y_train_labels},\n",
        "    validation_data=(x_validation, {'BBox': y_validation_bbox, 'Label': y_validation_labels}),\n",
        "    epochs=20,\n",
        "    batch_size=10,\n",
        "    verbose=1\n",
        ")\n"
      ]
    },
    {
      "cell_type": "code",
      "source": [
        "# Lưu model vào đường dẫn được chỉ định\n",
        "model.save('Localization_Airplane_or_Helicopter.keras')"
      ],
      "metadata": {
        "id": "xUBR40dhi1eI"
      },
      "execution_count": 12,
      "outputs": []
    },
    {
      "cell_type": "code",
      "execution_count": 13,
      "metadata": {
        "colab": {
          "base_uri": "https://localhost:8080/"
        },
        "id": "jJM-1YagZzlf",
        "outputId": "60b4618d-4aad-427d-e8d1-c604aaf382b3"
      },
      "outputs": [
        {
          "output_type": "stream",
          "name": "stdout",
          "text": [
            "4/4 [==============================] - 3s 636ms/step - loss: 383727.3750 - BBox_loss: 383721.6250 - Label_loss: 5.7643 - Label_accuracy: 0.8173\n",
            "Test Losses:\n",
            "Bounding Box Loss: 383721.625\n",
            "Label Loss: 5.764334678649902\n",
            "Accuracy: 0.817307710647583\n"
          ]
        }
      ],
      "source": [
        "# Đánh giá mô hình trên tập kiểm tra\n",
        "test_scores = model.evaluate(\n",
        "    x_test,\n",
        "    {'BBox': np.array(y_test_bbox), 'Label': np.array(y_test_labels)},\n",
        "    verbose=1\n",
        ")\n",
        "\n",
        "# In kết quả đánh giá\n",
        "print(\"Test Losses:\")\n",
        "print(\"Bounding Box Loss:\", test_scores[1])\n",
        "print(\"Label Loss:\", test_scores[2])\n",
        "print(\"Accuracy:\", test_scores[3])"
      ]
    }
  ],
  "metadata": {
    "kernelspec": {
      "display_name": "Python 3",
      "language": "python",
      "name": "python3"
    },
    "language_info": {
      "codemirror_mode": {
        "name": "ipython",
        "version": 3
      },
      "file_extension": ".py",
      "mimetype": "text/x-python",
      "name": "python",
      "nbconvert_exporter": "python",
      "pygments_lexer": "ipython3",
      "version": "3.8.10"
    },
    "colab": {
      "provenance": []
    }
  },
  "nbformat": 4,
  "nbformat_minor": 0
}